{
 "cells": [
  {
   "cell_type": "code",
   "execution_count": null,
   "metadata": {},
   "outputs": [],
   "source": [
    "import numpy as np\n",
    "import matplotlib.pyplot as plt \n",
    "\n",
    "X=np.array([0,3,6,8])\n",
    "Y=np.array([35,45,65,80])\n",
    "\n",
    "plt.plot(X,Y,'*')\n",
    "plt.xlabel(\"Years of exeprience |  our explicative variable 'x' \")\n",
    "plt.ylabel(\"Salary | Target variable 'y'\")\n",
    "plt.title(\"Scratter plot\")\n",
    "plt.savefig(\"./intuitive_scatter.png\")"
   ]
  },
  {
   "cell_type": "code",
   "execution_count": null,
   "metadata": {},
   "outputs": [],
   "source": [
    "from sklearn.linear_model import LinearRegression\n",
    "\n",
    "def reg_plot(x,y,m):\n",
    "    plt.scatter(x,y,c='blue',label=\"our data\")\n",
    "    plt.plot(x, m.predict(x.reshape(-1, 1)), color='red',label=\"prediction curve\")\n",
    "    plt.xlabel(\"explicative variable 'x' \")\n",
    "    plt.ylabel(\"target variable 'y'\")\n",
    "    plt.legend()\n",
    "    return None\n",
    "\n",
    "linear_model = LinearRegression()\n",
    "linear_model.fit(X.reshape(-1, 1),Y)\n",
    "reg_plot(X,Y,linear_model)\n",
    "plt.savefig(\"./approche_intuitive.png\")"
   ]
  }
 ],
 "metadata": {
  "kernelspec": {
   "display_name": ".venv",
   "language": "python",
   "name": "python3"
  },
  "language_info": {
   "codemirror_mode": {
    "name": "ipython",
    "version": 3
   },
   "file_extension": ".py",
   "mimetype": "text/x-python",
   "name": "python",
   "nbconvert_exporter": "python",
   "pygments_lexer": "ipython3",
   "version": "3.11.4"
  }
 },
 "nbformat": 4,
 "nbformat_minor": 2
}
